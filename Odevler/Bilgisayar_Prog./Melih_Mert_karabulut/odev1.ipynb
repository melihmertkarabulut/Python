{
  "nbformat": 4,
  "nbformat_minor": 0,
  "metadata": {
    "colab": {
      "provenance": []
    },
    "kernelspec": {
      "name": "python3",
      "display_name": "Python 3"
    },
    "language_info": {
      "name": "python"
    }
  },
  "cells": [
    {
      "cell_type": "markdown",
      "source": [
        "Cevap 1"
      ],
      "metadata": {
        "id": "EgPAe0n2aqz4"
      }
    },
    {
      "cell_type": "code",
      "source": [
        "kelvinDegeri=400\n",
        "celciusDegeri= kelvinDegeri - 273\n",
        "\n",
        "print(f\"{kelvinDegeri} Kelvin = {celciusDegeri} Celcius\")"
      ],
      "metadata": {
        "id": "68FsGpcgax3R"
      },
      "execution_count": null,
      "outputs": []
    },
    {
      "cell_type": "markdown",
      "source": [
        "Cevap 2"
      ],
      "metadata": {
        "id": "aJ7NhLr5bQGP"
      }
    },
    {
      "cell_type": "code",
      "source": [
        "pi=3.14\n",
        "yaricap=1.5\n",
        "cevre = 2 * pi * yaricap\n",
        "alan = pi * (yaricap**2)\n",
        "\n",
        "print(f\"Dairenin Alanı: {alan} cm kare \\nDairenin cevresi: {cevre} cm\")"
      ],
      "metadata": {
        "id": "bw3EGM9tbWf2"
      },
      "execution_count": null,
      "outputs": []
    },
    {
      "cell_type": "markdown",
      "source": [
        "Cevap 3"
      ],
      "metadata": {
        "id": "pEUsbnndbZA2"
      }
    },
    {
      "cell_type": "code",
      "source": [
        "sayi=int(input(\"4 basamaklı sayı gir: \"))\n",
        "\n",
        "birinciBasamak=sayi//1000\n",
        "sonBasamak= sayi%10\n",
        "toplam = birinciBasamak + sonBasamak\n",
        "\n",
        "print(f\"ilk ve son basamak toplamı: {toplam}\")"
      ],
      "metadata": {
        "id": "d-EuTEH_bbHw"
      },
      "execution_count": null,
      "outputs": []
    },
    {
      "cell_type": "markdown",
      "source": [
        "Cevap 4"
      ],
      "metadata": {
        "id": "1LtUaRxBbco9"
      }
    },
    {
      "cell_type": "code",
      "source": [
        "yol,hiz=500,110\n",
        "saat= yol/hiz\n",
        "dakika = (saat - int(saat))*60\n",
        "\n",
        "print(f\"{yol} km yol {int(saat)} saat {int(dakika)} dakika sürer\")"
      ],
      "metadata": {
        "id": "VjGyoiD_bdvc"
      },
      "execution_count": null,
      "outputs": []
    }
  ]
}
